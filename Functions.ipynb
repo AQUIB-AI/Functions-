{
  "nbformat": 4,
  "nbformat_minor": 0,
  "metadata": {
    "colab": {
      "provenance": []
    },
    "kernelspec": {
      "name": "python3",
      "display_name": "Python 3"
    },
    "language_info": {
      "name": "python"
    }
  },
  "cells": [
    {
      "cell_type": "code",
      "source": [
        "##1. Sum of all even numbers in a list\n",
        "\n",
        "def sum_even_numbers(lst):\n",
        "    return sum(filter(lambda x: x % 2 == 0, lst))\n",
        "\n",
        "print(sum_even_numbers([1, 2, 3, 4, 5, 6]))\n"
      ],
      "metadata": {
        "colab": {
          "base_uri": "https://localhost:8080/"
        },
        "id": "6YDkGMhRGF_B",
        "outputId": "50e4b672-0be5-4a4c-dbd8-182cdd92634a"
      },
      "execution_count": 2,
      "outputs": [
        {
          "output_type": "stream",
          "name": "stdout",
          "text": [
            "12\n"
          ]
        }
      ]
    },
    {
      "cell_type": "code",
      "source": [
        "##2. Reverse a string\n",
        "\n",
        "def reverse_string(s):\n",
        "    return s[::-1]\n",
        "\n",
        "print(reverse_string(\"AQUIB\"))\n"
      ],
      "metadata": {
        "colab": {
          "base_uri": "https://localhost:8080/"
        },
        "id": "93iXtylCGYGN",
        "outputId": "45384b87-7df4-47d2-cafd-fb03bf1270d3"
      },
      "execution_count": 4,
      "outputs": [
        {
          "output_type": "stream",
          "name": "stdout",
          "text": [
            "BIUQA\n"
          ]
        }
      ]
    },
    {
      "cell_type": "code",
      "source": [
        "\n",
        "##3. Return squares of integers\n",
        "\n",
        "def square_list(lst):\n",
        "    return [x ** 2 for x in lst]\n",
        "\n",
        "print(square_list([1, 2, 3]))\n"
      ],
      "metadata": {
        "colab": {
          "base_uri": "https://localhost:8080/"
        },
        "id": "MNdO-nfTGp9L",
        "outputId": "717ebc07-2f2a-43fe-f526-682beaaf5ada"
      },
      "execution_count": 5,
      "outputs": [
        {
          "output_type": "stream",
          "name": "stdout",
          "text": [
            "[1, 4, 9]\n"
          ]
        }
      ]
    },
    {
      "cell_type": "code",
      "source": [
        "\n",
        "##4. Check if a number is prime (1 to 200)\n",
        "\n",
        "def is_prime(n):\n",
        "    if n < 2:\n",
        "        return False\n",
        "    for i in range(2, int(n**0.5)+1):\n",
        "        if n % i == 0:\n",
        "            return False\n",
        "    return True\n",
        "\n",
        "\n",
        "print(is_prime(17))\n"
      ],
      "metadata": {
        "colab": {
          "base_uri": "https://localhost:8080/"
        },
        "id": "Y6eBLXrBG59f",
        "outputId": "9eaab462-57ec-4af1-8927-c7fb2163da5e"
      },
      "execution_count": 6,
      "outputs": [
        {
          "output_type": "stream",
          "name": "stdout",
          "text": [
            "True\n"
          ]
        }
      ]
    },
    {
      "cell_type": "code",
      "source": [
        "\n",
        "##5. Iterator class for Fibonacci sequence\n",
        "\n",
        "class Fibonacci:\n",
        "    def __init__(self, max_terms):\n",
        "        self.max_terms = max_terms\n",
        "        self.a, self.b = 0, 1\n",
        "        self.count = 0\n",
        "\n",
        "    def __iter__(self):\n",
        "        return self\n",
        "\n",
        "    def __next__(self):\n",
        "        if self.count >= self.max_terms:\n",
        "            raise StopIteration\n",
        "        self.a, self.b = self.b, self.a + self.b\n",
        "        self.count += 1\n",
        "        return self.a\n",
        "\n",
        "\n",
        "for num in Fibonacci(5):\n",
        "    print(num)\n"
      ],
      "metadata": {
        "colab": {
          "base_uri": "https://localhost:8080/"
        },
        "id": "wFre5ENoHMua",
        "outputId": "cd23ef9c-9dc9-44e4-bd0d-d0415fe29a13"
      },
      "execution_count": 7,
      "outputs": [
        {
          "output_type": "stream",
          "name": "stdout",
          "text": [
            "1\n",
            "1\n",
            "2\n",
            "3\n",
            "5\n"
          ]
        }
      ]
    },
    {
      "cell_type": "code",
      "source": [
        "##6. Generator function for powers of 2\n",
        "\n",
        "def powers_of_two(n):\n",
        "    for i in range(n + 1):\n",
        "        yield 2 ** i\n",
        "\n",
        "\n",
        "print(list(powers_of_two(4)))\n"
      ],
      "metadata": {
        "colab": {
          "base_uri": "https://localhost:8080/"
        },
        "id": "Ofkb_NRjHceV",
        "outputId": "4f52f0ce-4307-47dc-8ac0-4df58918406f"
      },
      "execution_count": 8,
      "outputs": [
        {
          "output_type": "stream",
          "name": "stdout",
          "text": [
            "[1, 2, 4, 8, 16]\n"
          ]
        }
      ]
    },
    {
      "cell_type": "code",
      "source": [
        "##7. Generator function to read a file line by line\n",
        "\n",
        "def read_lines(file_path):\n",
        "    with open(file_path, 'r') as file:\n",
        "        for line in file:\n",
        "            yield line.strip()\n",
        "\n",
        "\n"
      ],
      "metadata": {
        "colab": {
          "base_uri": "https://localhost:8080/",
          "height": 323
        },
        "id": "oyG1tB4-HlJd",
        "outputId": "ae2ba92b-18c5-4067-8cfb-186f2b890947"
      },
      "execution_count": 10,
      "outputs": [
        {
          "output_type": "error",
          "ename": "FileNotFoundError",
          "evalue": "[Errno 2] No such file or directory: 'sample.txt'",
          "traceback": [
            "\u001b[0;31m---------------------------------------------------------------------------\u001b[0m",
            "\u001b[0;31mFileNotFoundError\u001b[0m                         Traceback (most recent call last)",
            "\u001b[0;32m/tmp/ipython-input-10-2386046457.py\u001b[0m in \u001b[0;36m<cell line: 0>\u001b[0;34m()\u001b[0m\n\u001b[1;32m      7\u001b[0m \u001b[0;34m\u001b[0m\u001b[0m\n\u001b[1;32m      8\u001b[0m \u001b[0;31m# Example usage:\u001b[0m\u001b[0;34m\u001b[0m\u001b[0;34m\u001b[0m\u001b[0m\n\u001b[0;32m----> 9\u001b[0;31m \u001b[0;32mfor\u001b[0m \u001b[0mline\u001b[0m \u001b[0;32min\u001b[0m \u001b[0mread_lines\u001b[0m\u001b[0;34m(\u001b[0m\u001b[0;34m\"sample.txt\"\u001b[0m\u001b[0;34m)\u001b[0m\u001b[0;34m:\u001b[0m\u001b[0;34m\u001b[0m\u001b[0;34m\u001b[0m\u001b[0m\n\u001b[0m\u001b[1;32m     10\u001b[0m     \u001b[0mprint\u001b[0m\u001b[0;34m(\u001b[0m\u001b[0mline\u001b[0m\u001b[0;34m)\u001b[0m\u001b[0;34m\u001b[0m\u001b[0;34m\u001b[0m\u001b[0m\n",
            "\u001b[0;32m/tmp/ipython-input-10-2386046457.py\u001b[0m in \u001b[0;36mread_lines\u001b[0;34m(file_path)\u001b[0m\n\u001b[1;32m      2\u001b[0m \u001b[0;34m\u001b[0m\u001b[0m\n\u001b[1;32m      3\u001b[0m \u001b[0;32mdef\u001b[0m \u001b[0mread_lines\u001b[0m\u001b[0;34m(\u001b[0m\u001b[0mfile_path\u001b[0m\u001b[0;34m)\u001b[0m\u001b[0;34m:\u001b[0m\u001b[0;34m\u001b[0m\u001b[0;34m\u001b[0m\u001b[0m\n\u001b[0;32m----> 4\u001b[0;31m     \u001b[0;32mwith\u001b[0m \u001b[0mopen\u001b[0m\u001b[0;34m(\u001b[0m\u001b[0mfile_path\u001b[0m\u001b[0;34m,\u001b[0m \u001b[0;34m'r'\u001b[0m\u001b[0;34m)\u001b[0m \u001b[0;32mas\u001b[0m \u001b[0mfile\u001b[0m\u001b[0;34m:\u001b[0m\u001b[0;34m\u001b[0m\u001b[0;34m\u001b[0m\u001b[0m\n\u001b[0m\u001b[1;32m      5\u001b[0m         \u001b[0;32mfor\u001b[0m \u001b[0mline\u001b[0m \u001b[0;32min\u001b[0m \u001b[0mfile\u001b[0m\u001b[0;34m:\u001b[0m\u001b[0;34m\u001b[0m\u001b[0;34m\u001b[0m\u001b[0m\n\u001b[1;32m      6\u001b[0m             \u001b[0;32myield\u001b[0m \u001b[0mline\u001b[0m\u001b[0;34m.\u001b[0m\u001b[0mstrip\u001b[0m\u001b[0;34m(\u001b[0m\u001b[0;34m)\u001b[0m\u001b[0;34m\u001b[0m\u001b[0;34m\u001b[0m\u001b[0m\n",
            "\u001b[0;31mFileNotFoundError\u001b[0m: [Errno 2] No such file or directory: 'sample.txt'"
          ]
        }
      ]
    },
    {
      "cell_type": "code",
      "source": [
        "##8. Sort list of tuples based on second element\n",
        "\n",
        "def sort_by_second_element(tuples_list):\n",
        "    return sorted(tuples_list, key=lambda x: x[1])\n",
        "\n",
        "print(sort_by_second_element([(1, 3), (2, 1), (4, 2)]))\n"
      ],
      "metadata": {
        "colab": {
          "base_uri": "https://localhost:8080/"
        },
        "id": "nF45TBfSH4sx",
        "outputId": "517e4a98-55c1-4b69-bc1f-8b8abf401b20"
      },
      "execution_count": 11,
      "outputs": [
        {
          "output_type": "stream",
          "name": "stdout",
          "text": [
            "[(2, 1), (4, 2), (1, 3)]\n"
          ]
        }
      ]
    },
    {
      "cell_type": "code",
      "source": [
        "\n",
        "##9. Convert temperatures using map()\n",
        "\n",
        "def celsius_to_fahrenheit(celsius_list):\n",
        "    return list(map(lambda c: (9/5)*c + 32, celsius_list))\n",
        "\n",
        "\n",
        "print(celsius_to_fahrenheit([0, 100]))\n"
      ],
      "metadata": {
        "colab": {
          "base_uri": "https://localhost:8080/"
        },
        "id": "GUrAspdAIARo",
        "outputId": "4b13ce56-6c48-446a-c1e3-c25cac4c3527"
      },
      "execution_count": 12,
      "outputs": [
        {
          "output_type": "stream",
          "name": "stdout",
          "text": [
            "[32.0, 212.0]\n"
          ]
        }
      ]
    },
    {
      "cell_type": "code",
      "source": [
        "##10. Remove all vowels using filter()\n",
        "\n",
        "def remove_vowels(s):\n",
        "    return ''.join(filter(lambda ch: ch.lower() not in 'aeiou', s))\n",
        "\n",
        "\n",
        "print(remove_vowels(\"AQUIB ALAM KHAN\"))"
      ],
      "metadata": {
        "colab": {
          "base_uri": "https://localhost:8080/"
        },
        "id": "lYwPVVMMIKWB",
        "outputId": "83a76d0d-a804-4bed-c23d-aa5bbedce780"
      },
      "execution_count": 14,
      "outputs": [
        {
          "output_type": "stream",
          "name": "stdout",
          "text": [
            "QB LM KHN\n"
          ]
        }
      ]
    },
    {
      "cell_type": "code",
      "source": [
        "# ## Write a Python program, which returns a list with 2-tuples. Each tuple\n",
        "# consists of the order number and the product of the price per item and the quantity. The product should be increased by 10,- € if the value of the\n",
        "## order is smaller than 100,00 €.  Write a Python program using lambda and map.\n",
        "\n",
        "orders = [\n",
        "    [34587, \"Learning Python, Mark Lutz\", 4, 40.95],\n",
        "    [98762, \"Programming Python, Mark Lutz\", 5, 56.80],\n",
        "    [77226, \"Head First Python, Paul Barry\", 3, 32.95],\n",
        "    [88112, \"Einführung in Python3, Bernd Klein\", 3, 24.99]\n",
        "]\n",
        "\n",
        "result = list(map(\n",
        "    lambda order: (order[0], order[2] * order[3] if order[2] * order[3] >= 100 else order[2] * order[3] + 10),\n",
        "    orders\n",
        "))\n",
        "\n",
        "print(result)\n"
      ],
      "metadata": {
        "colab": {
          "base_uri": "https://localhost:8080/"
        },
        "id": "P9D-ETSJIWJq",
        "outputId": "2dc60a92-8416-49aa-b169-12c8676feef9"
      },
      "execution_count": 15,
      "outputs": [
        {
          "output_type": "stream",
          "name": "stdout",
          "text": [
            "[(34587, 163.8), (98762, 284.0), (77226, 108.85000000000001), (88112, 84.97)]\n"
          ]
        }
      ]
    },
    {
      "cell_type": "markdown",
      "source": [
        "1. Difference between a Function and a Method in Python\n",
        "    \n",
        "    Function: A block of reusable code that is defined using def. It can exist independently.\n",
        "\n",
        "    Method: A function that is associated with an object (called on an object).\n",
        "\n",
        "    Example:\n",
        "\n",
        "\n",
        "    def add(a, b):        # Function\n",
        "    return a + b\n",
        "\n",
        "    \"hello\".upper()       # Method called on a string object\n",
        "2. Function Arguments vs Parameters\n",
        "\n",
        "    Parameter: A variable in the function definition.\n",
        "\n",
        "    Argument: The value passed to a function during the call.\n",
        "\n",
        "    Example:\n",
        "\n",
        "\n",
        "\n",
        "    def greet(name):     # 'name' is a parameter\n",
        "    print(\"Hello\", name)\n",
        "\n",
        "    greet(\"Alice\")        # \"Alice\" is an argument\n",
        "3. Ways to Define and Call a Function\n",
        "\n",
        "    Define using def or lambda. Call by writing function name followed by parentheses.\n",
        "\n",
        "    Example:\n",
        "\n",
        "\n",
        "    def square(x):         # definition\n",
        "    return x * x\n",
        "\n",
        "    print(square(4))       # calling with argument 4\n",
        "4. Purpose of return Statement\n",
        "    \n",
        "    Used to send a result from a function back to the caller and exit the function.\n",
        "\n",
        "Example:\n",
        "\n",
        "\n",
        "    def multiply(a, b):\n",
        "    return a * b\n",
        "\n",
        "    result = multiply(3, 4)   # result = 12\n",
        "5. Iterators vs Iterables\n",
        "    \n",
        "    Iterable: An object capable of returning its members (e.g., list, string).\n",
        "\n",
        "    Iterator: An object with a __next__() method that returns items from an iterable.\n",
        "\n",
        "Example:\n",
        "\n",
        "\n",
        "    nums = [1, 2, 3]       # iterable\n",
        "    it = iter(nums)        # iterator\n",
        "    print(next(it))        # Output: 1\n",
        "6. Concept of Generators\n",
        "\n",
        "    Generators are functions that use yield to return values one at a time.\n",
        "\n",
        "Example:\n",
        "\n",
        "\n",
        "    def gen():\n",
        "      yield 1\n",
        "      yield 2\n",
        "\n",
        "    g = gen()\n",
        "    print(next(g))   # Output: 1\n",
        "7. Advantages of Generators\n",
        "\n",
        "    Memory Efficient (lazy evaluation)\n",
        "\n",
        "    Infinite Sequences possible\n",
        "\n",
        "    Faster Iteration for large data\n",
        "\n",
        "Example:\n",
        "\n",
        "\n",
        "    def count_up_to(n):\n",
        "      i = 1\n",
        "      while i <= n:\n",
        "        yield i\n",
        "        i += 1\n",
        "8. Lambda Functions\n",
        "\n",
        "    Anonymous functions using lambda keyword. Used for short, throwaway functions.\n",
        "\n",
        "Example:\n",
        "\n",
        "\n",
        "    add = lambda x, y: x + y\n",
        "    print(add(3, 5))  # Output: 8\n",
        "9. Purpose of map()\n",
        "\n",
        "    Applies a function to each item in an iterable.\n",
        "\n",
        "Example:\n",
        "\n",
        "\n",
        "    nums = [1, 2, 3]\n",
        "    squares = list(map(lambda x: x ** 2, nums))  # [1, 4, 9]\n",
        "10. Difference between map(), reduce(), and filter()\n",
        "Function\tPurpose\tReturns\n",
        "\n",
        "    map()\tTransforms each element\tList of transformed elements\n",
        "    \n",
        "    filter()\tFilters elements by condition\tList of filtered elements\n",
        "    \n",
        "    reduce()\tReduces to a single value\tA single result\n",
        "\n",
        "Example:\n",
        "\n",
        "\n",
        "    from functools import reduce\n",
        "\n",
        "    nums = [1, 2, 3, 4]\n",
        "\n",
        "    list(map(lambda x: x*2, nums))        # [2, 4, 6, 8]\n",
        "    list(filter(lambda x: x%2 == 0, nums))# [2, 4]\n",
        "    reduce(lambda x, y: x + y, nums)      # 10"
      ],
      "metadata": {
        "id": "LlGbu_FtIwKY"
      }
    }
  ]
}